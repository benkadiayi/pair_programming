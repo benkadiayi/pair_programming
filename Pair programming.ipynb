{
 "cells": [
  {
   "cell_type": "code",
   "execution_count": 1,
   "id": "a289841b",
   "metadata": {},
   "outputs": [
    {
     "name": "stdout",
     "output_type": "stream",
     "text": [
      "there is 5 spots. \n",
      "Would you like to get a ticket? (yes/no)yes\n",
      "there is 4 spots. \n",
      "You own 10$.Type the amount (10) to pay.10\n",
      "Thank you for your payment, have a nice day.\n"
     ]
    }
   ],
   "source": [
    "class Parking_garage:\n",
    "    def __init__(self,dict={}):\n",
    "        self.ticket = [1,1,1,1,1]\n",
    "        self.parkingSpaces = [0,0,0,0,0]\n",
    "        dict = {\"currentTicket\":\"paid\",\"bol\":False}\n",
    "        self.dict =dict\n",
    "    def takeTicket(self):\n",
    "        print(f\"there is {len(self.ticket)} spots. \")\n",
    "        prompt = \"Would you like to get a ticket? (yes/no)\"\n",
    "        answer = input(prompt)\n",
    "        if answer == \"yes\":\n",
    "            self.ticket.pop()\n",
    "            self.parkingSpaces.pop()\n",
    "            print(f\"there is {len(self.ticket)} spots. \")\n",
    "        if answer == \"no\":\n",
    "            print(\"Thank you. have a nice day.\")\n",
    "\n",
    "    def payForParking(self,dict):\n",
    "        \n",
    "        prompt = \"You own 10$.\"\n",
    "        prompt += \"Type the amount (10) to pay.\"\n",
    "        amount = input(prompt)\n",
    "        if amount == \"10\":\n",
    "            self.dict['bol'] = True\n",
    "    def leaveGarage(self,dict):\n",
    "\n",
    "        if self.dict['bol'] == True:\n",
    "            print('Thank you for your payment, have a nice day.')\n",
    "            self.ticket.append(1)\n",
    "            self.parkingSpaces.pop(0)\n",
    "        else:\n",
    "            print('you have not paid.')\n",
    "\n",
    "\n",
    "     \n",
    "p = Parking_garage()\n",
    "p.takeTicket()\n",
    "p.payForParking(dict)\n",
    "p.leaveGarage(dict)\n"
   ]
  }
 ],
 "metadata": {
  "kernelspec": {
   "display_name": "Python 3",
   "language": "python",
   "name": "python3"
  },
  "language_info": {
   "codemirror_mode": {
    "name": "ipython",
    "version": 3
   },
   "file_extension": ".py",
   "mimetype": "text/x-python",
   "name": "python",
   "nbconvert_exporter": "python",
   "pygments_lexer": "ipython3",
   "version": "3.8.8"
  }
 },
 "nbformat": 4,
 "nbformat_minor": 5
}
